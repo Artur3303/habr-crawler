{
 "cells": [
  {
   "cell_type": "code",
   "execution_count": null,
   "metadata": {},
   "outputs": [],
   "source": [
    "index_dict = {}\n",
    "\n",
    "docs_path = 'data/lemmatized-texts/'\n",
    "index_path = 'data/inverse-index-boolean/'"
   ]
  },
  {
   "cell_type": "code",
   "execution_count": null,
   "metadata": {},
   "outputs": [],
   "source": [
    "for i in range(1, 101):\n",
    "    with open(docs_path + str(i) + '.txt', 'r') as file:\n",
    "        words = file.readline().split('\\t')\n",
    "        \n",
    "    for word in words:\n",
    "        if word not in index_dict:\n",
    "            index_dict[word] = [0 for j in range(0, 100)]\n",
    "        \n",
    "        index_dict[word][i-1] = 1"
   ]
  },
  {
   "cell_type": "code",
   "execution_count": null,
   "metadata": {},
   "outputs": [],
   "source": [
    "for word,docs in index_dict.items():\n",
    "    with open(index_path + word + '.txt', 'w') as file:\n",
    "        for num in docs:\n",
    "            file.write(str(num) + '\\n')\n",
    "            \n",
    "    print(word + '.txt created')"
   ]
  }
 ],
 "metadata": {
  "kernelspec": {
   "display_name": "Python 3",
   "language": "python",
   "name": "python3"
  },
  "language_info": {
   "codemirror_mode": {
    "name": "ipython",
    "version": 3
   },
   "file_extension": ".py",
   "mimetype": "text/x-python",
   "name": "python",
   "nbconvert_exporter": "python",
   "pygments_lexer": "ipython3",
   "version": "3.7.1"
  }
 },
 "nbformat": 4,
 "nbformat_minor": 2
}
