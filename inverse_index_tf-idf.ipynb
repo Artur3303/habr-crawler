{
 "cells": [
  {
   "cell_type": "code",
   "execution_count": null,
   "metadata": {},
   "outputs": [],
   "source": [
    "from math import log\n",
    "import numpy as np"
   ]
  },
  {
   "cell_type": "code",
   "execution_count": null,
   "metadata": {},
   "outputs": [],
   "source": [
    "index_dict = {}\n",
    "\n",
    "docs_path = 'data/lemmatized-texts/'\n",
    "boolean_index_path = 'data/inverse-index-boolean/'\n",
    "tfidf_index_path = 'data/inverse-index-tfidf/lemmas/'\n",
    "vectors_lengths_path = 'data/inverse-index-tfidf/index.txt'"
   ]
  },
  {
   "cell_type": "code",
   "execution_count": null,
   "metadata": {},
   "outputs": [],
   "source": [
    "def tf(word, document):\n",
    "    with open(docs_path + str(document) + '.txt', 'r') as file:\n",
    "        words = file.readline().split('\\t')\n",
    "        \n",
    "    word_quantity = len([w for w in words if w == word])\n",
    "    \n",
    "    return word_quantity / len(words)"
   ]
  },
  {
   "cell_type": "code",
   "execution_count": null,
   "metadata": {},
   "outputs": [],
   "source": [
    "def idf(word):\n",
    "    docs_quantity = 100\n",
    "    with open(boolean_index_path + word + '.txt', 'r') as file:\n",
    "        lines = file.readlines()\n",
    "    \n",
    "    docs_quantity_that_contain_word = len([line for line in lines if line == str(1) + '\\n'])\n",
    "    \n",
    "    return log(docs_quantity / docs_quantity_that_contain_word)"
   ]
  },
  {
   "cell_type": "code",
   "execution_count": null,
   "metadata": {},
   "outputs": [],
   "source": [
    "for i in range(1, 101):\n",
    "    with open(docs_path + str(i) + '.txt', 'r') as file:\n",
    "        words = file.readline().split('\\t')\n",
    "        \n",
    "    for word in words:\n",
    "        if word not in index_dict:\n",
    "            index_dict[word] = [(0, False) for j in range(0, 101)]\n",
    "            index_dict[word][0] = (idf(word), True)\n",
    "        \n",
    "        if index_dict[word][i][1] == False:\n",
    "            index_dict[word][i] = (tf(word,i)*index_dict[word][0][0], True)\n",
    "        \n",
    "for word,docs in index_dict.items():\n",
    "    docs = [str(tup[0]) + '\\n' for tup in docs]\n",
    "    with open(tfidf_index_path + word + '.txt', 'w') as file:\n",
    "        file.writelines(docs)\n",
    "        \n",
    "    print(word + '.txt created')"
   ]
  },
  {
   "cell_type": "code",
   "execution_count": null,
   "metadata": {},
   "outputs": [],
   "source": [
    "vectors = np.array(\n",
    "             [[tup[0] for tup in line] for line in list(index_dict.values())]\n",
    "          ).T[1:]\n",
    "\n",
    "vectors_lengths = []\n",
    "\n",
    "for vector in vectors:\n",
    "    length = .0\n",
    "    \n",
    "    for tfidf in vector:\n",
    "        length += tfidf**2\n",
    "    \n",
    "    length = np.sqrt(length)\n",
    "    vectors_lengths.append(str(length) + '\\n')\n",
    "\n",
    "with open(vectors_lengths_path, 'w') as file:\n",
    "    file.writelines(vectors_lengths)"
   ]
  }
 ],
 "metadata": {
  "kernelspec": {
   "display_name": "Python 3",
   "language": "python",
   "name": "python3"
  },
  "language_info": {
   "codemirror_mode": {
    "name": "ipython",
    "version": 3
   },
   "file_extension": ".py",
   "mimetype": "text/x-python",
   "name": "python",
   "nbconvert_exporter": "python",
   "pygments_lexer": "ipython3",
   "version": "3.7.1"
  }
 },
 "nbformat": 4,
 "nbformat_minor": 2
}
