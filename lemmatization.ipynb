{
 "cells": [
  {
   "cell_type": "code",
   "execution_count": null,
   "metadata": {},
   "outputs": [],
   "source": [
    "from nltk.corpus import stopwords\n",
    "from string import punctuation\n",
    "from string import digits\n",
    "from pymystem3 import Mystem"
   ]
  },
  {
   "cell_type": "code",
   "execution_count": null,
   "metadata": {},
   "outputs": [],
   "source": [
    "texts_path = 'data/crawl/texts/'\n",
    "lemmatized_texts_path = 'data/lemmatized-texts/'\n",
    "russian_stopwords = stopwords.words('russian')"
   ]
  },
  {
   "cell_type": "code",
   "execution_count": null,
   "metadata": {},
   "outputs": [],
   "source": [
    "def lemmatize_text(text):\n",
    "    return Mystem().lemmatize(text.lower())"
   ]
  },
  {
   "cell_type": "code",
   "execution_count": null,
   "metadata": {},
   "outputs": [],
   "source": [
    "def is_punctuation(word):\n",
    "    new_punctuation = punctuation + '«»–—\\n←→…'\n",
    "    for char in list(word):\n",
    "        if char in new_punctuation:\n",
    "            return True\n",
    "    return False"
   ]
  },
  {
   "cell_type": "code",
   "execution_count": null,
   "metadata": {},
   "outputs": [],
   "source": [
    "def is_digit(word):\n",
    "    for char in list(word):\n",
    "        if char in digits:\n",
    "            return True\n",
    "    return False"
   ]
  },
  {
   "cell_type": "code",
   "execution_count": null,
   "metadata": {
    "scrolled": false
   },
   "outputs": [],
   "source": [
    "def preprocess_text(text):\n",
    "    lemmas = lemmatize_text(text)\n",
    "    lemmas = [lemma + '\\t' for lemma in lemmas if lemma not in russian_stopwords \\\n",
    "             and lemma != ' ' \\\n",
    "             and not is_punctuation(lemma)]\n",
    "    return ''.join(lemmas)"
   ]
  },
  {
   "cell_type": "code",
   "execution_count": null,
   "metadata": {},
   "outputs": [],
   "source": [
    "for i in range(1, 101):\n",
    "    with open(texts_path + str(i) + '.txt', 'r') as file:\n",
    "        lines = file.readlines()\n",
    "        \n",
    "    lemmas_str = preprocess_text(lines[0])\n",
    "    \n",
    "    with open(lemmatized_texts_path + str(i) + '.txt', 'w') as file:\n",
    "        file.write(lemmas_str)\n",
    "    \n",
    "    print(str(i) + '.txt completed')"
   ]
  }
 ],
 "metadata": {
  "kernelspec": {
   "display_name": "Python 3",
   "language": "python",
   "name": "python3"
  },
  "language_info": {
   "codemirror_mode": {
    "name": "ipython",
    "version": 3
   },
   "file_extension": ".py",
   "mimetype": "text/x-python",
   "name": "python",
   "nbconvert_exporter": "python",
   "pygments_lexer": "ipython3",
   "version": "3.7.1"
  }
 },
 "nbformat": 4,
 "nbformat_minor": 2
}
