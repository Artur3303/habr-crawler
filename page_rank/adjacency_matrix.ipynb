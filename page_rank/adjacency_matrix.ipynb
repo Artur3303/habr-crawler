{
 "cells": [
  {
   "cell_type": "code",
   "execution_count": null,
   "metadata": {},
   "outputs": [],
   "source": [
    "import requests\n",
    "from bs4 import BeautifulSoup\n",
    "import numpy as np"
   ]
  },
  {
   "cell_type": "code",
   "execution_count": null,
   "metadata": {},
   "outputs": [],
   "source": [
    "DOCS_URLS_PATH = '../data/crawl/index.txt'\n",
    "ADJACENCY_MATRIX_PATH = 'matrix.txt'"
   ]
  },
  {
   "cell_type": "code",
   "execution_count": null,
   "metadata": {},
   "outputs": [],
   "source": [
    "def get_links_from_url(url):\n",
    "    html = requests.get(url).content.decode('utf-8')\n",
    "    bsObj = BeautifulSoup(html, 'lxml')\n",
    "    links = [link for link in bsObj.find_all('a') if 'href' in link.attrs]\n",
    "    finalLinks = set()\n",
    "    \n",
    "    for link in links:\n",
    "        href = link.attrs['href']\n",
    "        if href.startswith('https://habr.com/'):\n",
    "            finalLinks.add(href)\n",
    "        \n",
    "    return finalLinks"
   ]
  },
  {
   "cell_type": "code",
   "execution_count": null,
   "metadata": {},
   "outputs": [],
   "source": [
    "with open(DOCS_URLS_PATH, 'r') as file:\n",
    "    d_urls = [url[:-1] for url in file.readlines()]"
   ]
  },
  {
   "cell_type": "code",
   "execution_count": null,
   "metadata": {},
   "outputs": [],
   "source": [
    "d_links = {}\n",
    "for i,url in enumerate(d_urls):\n",
    "    d_links[i] = get_links_from_url(url)\n",
    "    print(str(i) + ' completed')"
   ]
  },
  {
   "cell_type": "code",
   "execution_count": null,
   "metadata": {},
   "outputs": [],
   "source": [
    "matrix = np.zeros([100,100])"
   ]
  },
  {
   "cell_type": "code",
   "execution_count": null,
   "metadata": {},
   "outputs": [],
   "source": [
    "for i in range(0,100):\n",
    "    for j in range(0,100):\n",
    "        if i != j:\n",
    "            if d_urls[i] in d_links[j]:\n",
    "                matrix[j][i] = 1\n",
    "                print(str(i) + ' refers to ' + str(j))\n",
    "    print(str(i) + ' doc completed')"
   ]
  },
  {
   "cell_type": "code",
   "execution_count": null,
   "metadata": {},
   "outputs": [],
   "source": [
    "lines = []\n",
    "\n",
    "for row in matrix:\n",
    "    line = ''\n",
    "    for val in row:\n",
    "        line += str(int(val)) + '\\t'\n",
    "    \n",
    "    lines.append(line[:-1] + '\\n')\n",
    "        \n",
    "with open(ADJACENCY_MATRIX_PATH, 'w') as file:\n",
    "    file.writelines(lines)"
   ]
  }
 ],
 "metadata": {
  "kernelspec": {
   "display_name": "Python 3",
   "language": "python",
   "name": "python3"
  },
  "language_info": {
   "codemirror_mode": {
    "name": "ipython",
    "version": 3
   },
   "file_extension": ".py",
   "mimetype": "text/x-python",
   "name": "python",
   "nbconvert_exporter": "python",
   "pygments_lexer": "ipython3",
   "version": "3.7.1"
  }
 },
 "nbformat": 4,
 "nbformat_minor": 2
}
