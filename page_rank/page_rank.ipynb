{
 "cells": [
  {
   "cell_type": "code",
   "execution_count": null,
   "metadata": {},
   "outputs": [],
   "source": [
    "RANKS_PATH = 'ranks.txt'\n",
    "ADJACENCY_MATRIX_PATH = 'matrix.txt'"
   ]
  },
  {
   "cell_type": "code",
   "execution_count": null,
   "metadata": {},
   "outputs": [],
   "source": [
    "DAMPING_FACTOR = .85"
   ]
  },
  {
   "cell_type": "code",
   "execution_count": null,
   "metadata": {},
   "outputs": [],
   "source": [
    "matrix = []\n",
    "\n",
    "with open(ADJACENCY_MATRIX_PATH, 'r') as file:\n",
    "    rows = file.read().split('\\n')[:-1]\n",
    "    for row in rows:\n",
    "        matrix.append([int(val) for val in row.split('\\t')])"
   ]
  },
  {
   "cell_type": "code",
   "execution_count": null,
   "metadata": {},
   "outputs": [],
   "source": [
    "def get_outgoing_links(ext_doc):\n",
    "    outgoing_links = 0\n",
    "    for i in range(100):\n",
    "        if matrix[ext_doc][i] == 1:\n",
    "            outgoing_links += 1\n",
    "    \n",
    "    return outgoing_links"
   ]
  },
  {
   "cell_type": "code",
   "execution_count": null,
   "metadata": {},
   "outputs": [],
   "source": [
    "page_rank = [.01 for i in range(0,100)]"
   ]
  },
  {
   "cell_type": "code",
   "execution_count": null,
   "metadata": {},
   "outputs": [],
   "source": [
    "for i in range(1000):\n",
    "    temp_page_rank = page_rank.copy()\n",
    "    for k in range(100):\n",
    "        page_rank[k] = 0\n",
    "    \n",
    "    for int_doc in range(100):\n",
    "        for ext_doc in range(100):\n",
    "            if matrix[ext_doc][int_doc] == 1:\n",
    "                outgoing_links = get_outgoing_links(ext_doc)\n",
    "                page_rank[int_doc] += temp_page_rank[ext_doc] / outgoing_links\n",
    "    \n",
    "    for i in range(100):\n",
    "        page_rank[i] = (1 - DAMPING_FACTOR) + DAMPING_FACTOR * page_rank[i]"
   ]
  },
  {
   "cell_type": "code",
   "execution_count": null,
   "metadata": {},
   "outputs": [],
   "source": [
    "with open(RANKS_PATH, 'w') as file:\n",
    "    file.writelines([str(rank) + '\\n' for rank in page_rank])"
   ]
  }
 ],
 "metadata": {
  "kernelspec": {
   "display_name": "Python 3",
   "language": "python",
   "name": "python3"
  },
  "language_info": {
   "codemirror_mode": {
    "name": "ipython",
    "version": 3
   },
   "file_extension": ".py",
   "mimetype": "text/x-python",
   "name": "python",
   "nbconvert_exporter": "python",
   "pygments_lexer": "ipython3",
   "version": "3.7.1"
  }
 },
 "nbformat": 4,
 "nbformat_minor": 2
}
