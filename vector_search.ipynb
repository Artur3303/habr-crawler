{
 "cells": [
  {
   "cell_type": "code",
   "execution_count": null,
   "metadata": {},
   "outputs": [],
   "source": [
    "from pymystem3 import Mystem\n",
    "from glob import glob\n",
    "import numpy as np\n",
    "import linecache as lc\n",
    "import tkinter\n",
    "from tkinter import *\n",
    "from operator import itemgetter"
   ]
  },
  {
   "cell_type": "code",
   "execution_count": null,
   "metadata": {},
   "outputs": [],
   "source": [
    "TFIDF_INDEX_PATH = 'data/inverse-index-tfidf/'\n",
    "LINK_STORAGE_PATH = 'data/crawl/index.txt'"
   ]
  },
  {
   "cell_type": "code",
   "execution_count": null,
   "metadata": {},
   "outputs": [],
   "source": [
    "def get_lemmas(query):\n",
    "    return Mystem().lemmatize(query)"
   ]
  },
  {
   "cell_type": "code",
   "execution_count": null,
   "metadata": {},
   "outputs": [],
   "source": [
    "def get_lemmas_tfidfs(lemmas):\n",
    "    lemmas_tfidfs = {}\n",
    "    \n",
    "    for lemma in lemmas:\n",
    "        files = glob(TFIDF_INDEX_PATH + 'lemmas/' + lemma + '.txt')\n",
    "        if files:\n",
    "            with open(files[0], 'r') as file:\n",
    "                lemmas_tfidfs[lemma] = [float(tfidf) for tfidf in file.readlines()]\n",
    "    \n",
    "    return lemmas_tfidfs"
   ]
  },
  {
   "cell_type": "code",
   "execution_count": null,
   "metadata": {},
   "outputs": [],
   "source": [
    "def count_lemmas(lemmas):\n",
    "    lemmas_counts = {}\n",
    "    for lemma in lemmas:\n",
    "        if lemma not in lemmas_counts:\n",
    "            lemmas_counts[lemma] = 0\n",
    "        lemmas_counts[lemma] += 1\n",
    "    \n",
    "    return lemmas_counts"
   ]
  },
  {
   "cell_type": "code",
   "execution_count": null,
   "metadata": {},
   "outputs": [],
   "source": [
    "def compute_lemmas_tfs(lemmas):\n",
    "    lemmas_counts = count_lemmas(lemmas)\n",
    "    lemmas_tfs = {}\n",
    "    for lemma,count in lemmas_counts.items():\n",
    "        lemmas_tfs[lemma] = count / len(lemmas)\n",
    "    \n",
    "    return lemmas_tfs"
   ]
  },
  {
   "cell_type": "code",
   "execution_count": null,
   "metadata": {},
   "outputs": [],
   "source": [
    "def compute_q_vec_len(lemmas_tfs, lemmas_idfs):\n",
    "    q_vec_len = .0\n",
    "    for lemma in lemmas_tfs.keys():\n",
    "        q_vec_len += (lemmas_tfs[lemma] * lemmas_idfs[lemma])**2\n",
    "        \n",
    "    return np.sqrt(q_vec_len)"
   ]
  },
  {
   "cell_type": "code",
   "execution_count": null,
   "metadata": {},
   "outputs": [],
   "source": [
    "def get_docs_vecs_lens():\n",
    "    with open(TFIDF_INDEX_PATH + 'index.txt', 'r') as file:\n",
    "        return [float(v_len) for v_len in file.readlines()]"
   ]
  },
  {
   "cell_type": "code",
   "execution_count": null,
   "metadata": {},
   "outputs": [],
   "source": [
    "def compute_similarity(q_lemmas, q_v_len, q_lemmas_tfs, lemmas_idfs, lemmas_tfidfs, d_v_len, d_num):\n",
    "    divisible = .0\n",
    "    divisor = q_v_len * d_v_len\n",
    "    \n",
    "    for lemma in q_lemmas:\n",
    "        divisible += (q_lemmas_tfs[lemma] * lemmas_idfs[lemma]) * lemmas_tfidfs[lemma][d_num]\n",
    "        \n",
    "    return divisible / divisor    "
   ]
  },
  {
   "cell_type": "code",
   "execution_count": null,
   "metadata": {},
   "outputs": [],
   "source": [
    "def compute_docs_similarities(q_lemmas, q_v_len, q_lemmas_tfs, lemmas_idfs, lemmas_tfidfs, d_v_lens):\n",
    "    d_similarities = {}\n",
    "    for i in range(0,100):\n",
    "        d_similarities[i] = compute_similarity(q_lemmas, q_v_len, \\\n",
    "            q_lemmas_tfs, lemmas_idfs, lemmas_tfidfs, d_v_lens[i], i)\n",
    "        \n",
    "    return d_similarities"
   ]
  },
  {
   "cell_type": "code",
   "execution_count": null,
   "metadata": {},
   "outputs": [],
   "source": [
    "def get_sorted_docs(d_similarities):\n",
    "    sorted_docs = sorted(d_similarities.items(), key=itemgetter(1), reverse=True)\n",
    "    \n",
    "    return [tup[0] for tup in sorted_docs if tup[1] != .0]"
   ]
  },
  {
   "cell_type": "code",
   "execution_count": null,
   "metadata": {},
   "outputs": [],
   "source": [
    "def find_in_index(query_lemmas):\n",
    "    lemmas_tfidfs = get_lemmas_tfidfs(query_lemmas)\n",
    "    \n",
    "    if not lemmas_tfidfs:\n",
    "        return []\n",
    "    \n",
    "    lemmas_idfs = {}\n",
    "    for lemma,tfidfs in lemmas_tfidfs.items():\n",
    "        lemmas_idfs[lemma] = tfidfs[0]\n",
    "        lemmas_tfidfs[lemma] = tfidfs[1:]\n",
    "    \n",
    "    q_lemmas_tfs = compute_lemmas_tfs(query_lemmas)\n",
    "    \n",
    "    q_v_len = compute_q_vec_len(q_lemmas_tfs, lemmas_idfs)\n",
    "\n",
    "    d_v_lens = get_docs_vecs_lens()\n",
    "    \n",
    "    d_similarities = compute_docs_similarities(query_lemmas, q_v_len, q_lemmas_tfs, lemmas_idfs, \\\n",
    "        lemmas_tfidfs, d_v_lens)\n",
    "    \n",
    "    return get_sorted_docs(d_similarities)"
   ]
  },
  {
   "cell_type": "code",
   "execution_count": null,
   "metadata": {},
   "outputs": [],
   "source": [
    "def search(query):\n",
    "    query_lemmas = get_lemmas(query)\n",
    "    query_lemmas = [lemma for lemma in query_lemmas if lemma not in [' ', '\\n']]\n",
    "    print('Query lemmas:', query_lemmas)\n",
    "    docs = find_in_index(query_lemmas)\n",
    "\n",
    "    links = []\n",
    "    \n",
    "    for doc in docs:\n",
    "        links.append(lc.getline(LINK_STORAGE_PATH, doc + 1)[:-1])\n",
    "    \n",
    "    return links"
   ]
  },
  {
   "cell_type": "code",
   "execution_count": null,
   "metadata": {},
   "outputs": [],
   "source": [
    "def button_click():\n",
    "    listbox.delete(0, listbox.size() - 1)\n",
    "    err_label.grid_remove()\n",
    "    \n",
    "    query = text_field.get()\n",
    "    if not query:\n",
    "        err_label.grid()\n",
    "        return\n",
    "    \n",
    "    links = search(query)\n",
    "    \n",
    "    if not links:\n",
    "        listbox.insert(0, 'Ничего не найдено')\n",
    "        return\n",
    "    \n",
    "    index = 0\n",
    "    for link in links:\n",
    "        listbox.insert(index, link)\n",
    "        index += 1"
   ]
  },
  {
   "cell_type": "code",
   "execution_count": null,
   "metadata": {},
   "outputs": [],
   "source": [
    "root = tkinter.Tk()\n",
    "root.title('Vector search')\n",
    "\n",
    "label = Label(root, text='Введите запрос', bd=5, font='timesnewroman 10')\n",
    "err_label = Label(root, text='Вы ничего не ввели!', bd=5, fg='red', font='timesnewroman 10')\n",
    "text_field = Entry(root, bd=2, width=37, font='timesnewroman 10')\n",
    "button = Button(root, text='Искать', bd=2, command=button_click, font='timesnewroman 10')\n",
    "\n",
    "label.grid(columnspan=3, padx=3, pady=3, sticky='W')\n",
    "err_label.grid(row=1, columnspan=3, padx=3, pady=3, sticky='W')\n",
    "err_label.grid_remove()\n",
    "text_field.grid(row=2, columnspan=2, padx=3, pady=3)\n",
    "button.grid(row=2, column=2, padx=3, pady=3, sticky='E')\n",
    "\n",
    "listbox = Listbox(root, bd=2, width=55, height=15, font='timesnewroman 10')\n",
    "listbox.yview()\n",
    "listbox.grid(row=3, columnspan=3, padx=3, pady=3)\n",
    "\n",
    "root.mainloop()"
   ]
  }
 ],
 "metadata": {
  "kernelspec": {
   "display_name": "Python 3",
   "language": "python",
   "name": "python3"
  },
  "language_info": {
   "codemirror_mode": {
    "name": "ipython",
    "version": 3
   },
   "file_extension": ".py",
   "mimetype": "text/x-python",
   "name": "python",
   "nbconvert_exporter": "python",
   "pygments_lexer": "ipython3",
   "version": "3.7.1"
  }
 },
 "nbformat": 4,
 "nbformat_minor": 2
}
